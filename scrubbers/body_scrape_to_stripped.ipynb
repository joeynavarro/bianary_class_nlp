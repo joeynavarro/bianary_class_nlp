{
 "cells": [
  {
   "cell_type": "code",
   "execution_count": null,
   "metadata": {},
   "outputs": [],
   "source": [
    "import pandas as pd\n",
    "import numpy as np"
   ]
  },
  {
   "cell_type": "code",
   "execution_count": null,
   "metadata": {},
   "outputs": [],
   "source": [
    "r_dataengineering = pd.read_csv('../csv_scrapes/dataengineering_subreddit.csv')"
   ]
  },
  {
   "cell_type": "code",
   "execution_count": null,
   "metadata": {},
   "outputs": [],
   "source": [
    "#going to filter for time, title, score, comments, and body\n",
    "\n",
    "wanted_columns= [ 'subreddit_time_created', 'subreddit_title',\n",
    "        'subreddit_score', 'subreddit_num_comments',\n",
    "       'subreddit_body']\n",
    "\n",
    "# remove welcome to subreddit column\n",
    "de = r_dataengineering[wanted_columns].iloc[1:]\n"
   ]
  },
  {
   "cell_type": "code",
   "execution_count": null,
   "metadata": {},
   "outputs": [],
   "source": [
    "substance = [ 'subreddit_time_created', 'subreddit_title',\n",
    "       'subreddit_body']\n",
    "\n",
    "de_time_text = de[substance]\n",
    "\n"
   ]
  },
  {
   "cell_type": "code",
   "execution_count": null,
   "metadata": {},
   "outputs": [],
   "source": [
    "de_time_text['subreddit_title'] = de_time_text['subreddit_title'].str.lower()\n",
    "de_time_text['subreddit_body'] = de_time_text['subreddit_body'].str.lower()"
   ]
  },
  {
   "cell_type": "code",
   "execution_count": null,
   "metadata": {},
   "outputs": [],
   "source": [
    "de_time_text['subreddit_time_created'] = pd.to_datetime(de_time_text['subreddit_time_created'], format='%Y-%m-%d %H:%M:%S')"
   ]
  },
  {
   "cell_type": "code",
   "execution_count": null,
   "metadata": {},
   "outputs": [],
   "source": [
    "de_time_text['subreddit_dates'] = de_time_text['subreddit_time_created'].dt.date\n",
    "de_time_text['subreddit_dates'] = pd.to_datetime(de_time_text['subreddit_dates'], format='%Y-%m-%d')"
   ]
  },
  {
   "cell_type": "code",
   "execution_count": null,
   "metadata": {},
   "outputs": [],
   "source": [
    "de_body = de_time_text[['subreddit_dates', 'subreddit_body']]\n",
    "de_body.head()"
   ]
  },
  {
   "cell_type": "code",
   "execution_count": null,
   "metadata": {},
   "outputs": [],
   "source": [
    "de_body.to_csv(('../csv_stripped/dataengineering_body.csv'), index = False)"
   ]
  },
  {
   "cell_type": "code",
   "execution_count": null,
   "metadata": {},
   "outputs": [],
   "source": []
  },
  {
   "cell_type": "code",
   "execution_count": null,
   "metadata": {},
   "outputs": [],
   "source": [
    "r_artificial = pd.read_csv('../csv_scrapes/artificial_subreddit.csv')"
   ]
  },
  {
   "cell_type": "code",
   "execution_count": null,
   "metadata": {},
   "outputs": [],
   "source": [
    "#going to filter for time, title, score, comments, and body\n",
    "\n",
    "wanted_columns= [ 'subreddit_time_created', 'subreddit_title',\n",
    "        'subreddit_score', 'subreddit_num_comments',\n",
    "       'subreddit_body']\n",
    "\n",
    "# remove welcome to subreddit column\n",
    "artificial = r_artificial[wanted_columns].iloc[1:]\n"
   ]
  },
  {
   "cell_type": "code",
   "execution_count": null,
   "metadata": {},
   "outputs": [],
   "source": [
    "substance = [ 'subreddit_time_created', 'subreddit_title',\n",
    "       'subreddit_body']\n",
    "\n",
    "artificial_time_text = artificial[substance]\n",
    "\n"
   ]
  },
  {
   "cell_type": "code",
   "execution_count": null,
   "metadata": {},
   "outputs": [],
   "source": [
    "artificial_time_text['subreddit_title'] = artificial_time_text['subreddit_title'].str.lower()\n",
    "artificial_time_text['subreddit_body'] = artificial_time_text['subreddit_body'].str.lower()"
   ]
  },
  {
   "cell_type": "code",
   "execution_count": null,
   "metadata": {},
   "outputs": [],
   "source": [
    "artificial_time_text['subreddit_time_created'] = pd.to_datetime(artificial_time_text['subreddit_time_created'], format='%Y-%m-%d %H:%M:%S')"
   ]
  },
  {
   "cell_type": "code",
   "execution_count": null,
   "metadata": {},
   "outputs": [],
   "source": [
    "artificial_time_text['subreddit_dates'] = artificial_time_text['subreddit_time_created'].dt.date\n",
    "artificial_time_text['subreddit_dates'] = pd.to_datetime(artificial_time_text['subreddit_dates'], format='%Y-%m-%d')"
   ]
  },
  {
   "cell_type": "code",
   "execution_count": null,
   "metadata": {},
   "outputs": [],
   "source": [
    "artificial_body = artificial_time_text[['subreddit_dates', 'subreddit_body']]\n",
    "artificial_body.head()"
   ]
  },
  {
   "cell_type": "code",
   "execution_count": null,
   "metadata": {},
   "outputs": [],
   "source": [
    "artificial_body.to_csv(('../csv_stripped/artificial_body.csv'), index = False)"
   ]
  },
  {
   "cell_type": "code",
   "execution_count": null,
   "metadata": {},
   "outputs": [],
   "source": []
  },
  {
   "cell_type": "code",
   "execution_count": null,
   "metadata": {},
   "outputs": [],
   "source": [
    "r_datascience = pd.read_csv('../csv_scrapes/datascience_subreddit.csv')"
   ]
  },
  {
   "cell_type": "code",
   "execution_count": null,
   "metadata": {},
   "outputs": [],
   "source": [
    "#going to filter for time, title, score, comments, and body\n",
    "\n",
    "wanted_columns= [ 'subreddit_time_created', 'subreddit_title',\n",
    "        'subreddit_score', 'subreddit_num_comments',\n",
    "       'subreddit_body']\n",
    "\n",
    "# remove welcome to subreddit column\n",
    "ds = r_datascience[wanted_columns].iloc[1:]\n"
   ]
  },
  {
   "cell_type": "code",
   "execution_count": null,
   "metadata": {},
   "outputs": [],
   "source": [
    "substance = [ 'subreddit_time_created', 'subreddit_title',\n",
    "       'subreddit_body']\n",
    "\n",
    "ds_time_text = ds[substance]\n"
   ]
  },
  {
   "cell_type": "code",
   "execution_count": null,
   "metadata": {},
   "outputs": [],
   "source": [
    "ds_time_text['subreddit_title'] = ds_time_text['subreddit_title'].str.lower()\n",
    "ds_time_text['subreddit_body'] = ds_time_text['subreddit_body'].str.lower()"
   ]
  },
  {
   "cell_type": "code",
   "execution_count": null,
   "metadata": {},
   "outputs": [],
   "source": [
    "ds_time_text['subreddit_time_created'] = pd.to_datetime(ds_time_text['subreddit_time_created'], format='%Y-%m-%d %H:%M:%S')"
   ]
  },
  {
   "cell_type": "code",
   "execution_count": null,
   "metadata": {},
   "outputs": [],
   "source": [
    "ds_time_text['subreddit_dates'] = ds_time_text['subreddit_time_created'].dt.date\n",
    "ds_time_text['subreddit_dates'] = pd.to_datetime(ds_time_text['subreddit_dates'], format='%Y-%m-%d')"
   ]
  },
  {
   "cell_type": "code",
   "execution_count": null,
   "metadata": {},
   "outputs": [],
   "source": [
    "ds_body = ds_time_text[['subreddit_dates', 'subreddit_body']]\n",
    "ds_body.head()"
   ]
  },
  {
   "cell_type": "code",
   "execution_count": null,
   "metadata": {},
   "outputs": [],
   "source": [
    "ds_body.to_csv(('../csv_stripped/datascience_body.csv'), index = False)"
   ]
  },
  {
   "cell_type": "code",
   "execution_count": null,
   "metadata": {},
   "outputs": [],
   "source": []
  },
  {
   "cell_type": "code",
   "execution_count": null,
   "metadata": {},
   "outputs": [],
   "source": [
    "r_machinelearning = pd.read_csv('../csv_scrapes/machinelearning_subreddit.csv')"
   ]
  },
  {
   "cell_type": "code",
   "execution_count": null,
   "metadata": {},
   "outputs": [],
   "source": [
    "#going to filter for time, title, score, comments, and body\n",
    "\n",
    "wanted_columns= [ 'subreddit_time_created', 'subreddit_title',\n",
    "        'subreddit_score', 'subreddit_num_comments',\n",
    "       'subreddit_body']\n",
    "\n",
    "# remove welcome to subreddit column\n",
    "ml = r_machinelearning[wanted_columns].iloc[1:]\n"
   ]
  },
  {
   "cell_type": "code",
   "execution_count": null,
   "metadata": {},
   "outputs": [],
   "source": [
    "substance = [ 'subreddit_time_created', 'subreddit_title',\n",
    "       'subreddit_body']\n",
    "\n",
    "ml_time_text = ml[substance]\n",
    "\n"
   ]
  },
  {
   "cell_type": "code",
   "execution_count": null,
   "metadata": {},
   "outputs": [],
   "source": [
    "ml_time_text['subreddit_title'] = ml_time_text['subreddit_title'].str.lower()\n",
    "ml_time_text['subreddit_body'] = ml_time_text['subreddit_body'].str.lower()"
   ]
  },
  {
   "cell_type": "code",
   "execution_count": null,
   "metadata": {},
   "outputs": [],
   "source": [
    "ml_time_text['subreddit_time_created'] = pd.to_datetime(ml_time_text['subreddit_time_created'], format='%Y-%m-%d %H:%M:%S')"
   ]
  },
  {
   "cell_type": "code",
   "execution_count": null,
   "metadata": {},
   "outputs": [],
   "source": [
    "ml_time_text['subreddit_dates'] = ml_time_text['subreddit_time_created'].dt.date\n",
    "ml_time_text['subreddit_dates'] = pd.to_datetime(ml_time_text['subreddit_dates'], format='%Y-%m-%d')"
   ]
  },
  {
   "cell_type": "code",
   "execution_count": null,
   "metadata": {},
   "outputs": [],
   "source": [
    "ml_body = ml_time_text[['subreddit_dates', 'subreddit_body']]\n",
    "ml_body.head()"
   ]
  },
  {
   "cell_type": "code",
   "execution_count": null,
   "metadata": {},
   "outputs": [],
   "source": [
    "ml_body.to_csv(('../csv_stripped/machinelearning_body.csv'), index = False)"
   ]
  },
  {
   "cell_type": "code",
   "execution_count": null,
   "metadata": {},
   "outputs": [],
   "source": []
  },
  {
   "cell_type": "code",
   "execution_count": null,
   "metadata": {},
   "outputs": [],
   "source": []
  }
 ],
 "metadata": {
  "kernelspec": {
   "display_name": "Python 3",
   "language": "python",
   "name": "python3"
  },
  "language_info": {
   "codemirror_mode": {
    "name": "ipython",
    "version": 3
   },
   "file_extension": ".py",
   "mimetype": "text/x-python",
   "name": "python",
   "nbconvert_exporter": "python",
   "pygments_lexer": "ipython3",
   "version": "3.7.7"
  }
 },
 "nbformat": 4,
 "nbformat_minor": 4
}
