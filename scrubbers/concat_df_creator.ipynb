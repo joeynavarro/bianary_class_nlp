{
 "cells": [
  {
   "cell_type": "code",
   "execution_count": 1,
   "metadata": {},
   "outputs": [],
   "source": [
    "import pandas as pd"
   ]
  },
  {
   "cell_type": "code",
   "execution_count": 2,
   "metadata": {},
   "outputs": [],
   "source": [
    "rock = pd.read_csv('../csv_scrapes/80sRock_subreddit.csv')"
   ]
  },
  {
   "cell_type": "code",
   "execution_count": 3,
   "metadata": {},
   "outputs": [
    {
     "data": {
      "text/plain": [
       "(7, 8)"
      ]
     },
     "execution_count": 3,
     "metadata": {},
     "output_type": "execute_result"
    }
   ],
   "source": [
    "rock.shape"
   ]
  },
  {
   "cell_type": "code",
   "execution_count": 4,
   "metadata": {},
   "outputs": [],
   "source": [
    "dad = pd.read_csv('../csv_scrapes/dadjokes_subreddit.csv')"
   ]
  },
  {
   "cell_type": "code",
   "execution_count": 5,
   "metadata": {},
   "outputs": [
    {
     "data": {
      "text/plain": [
       "(841, 8)"
      ]
     },
     "execution_count": 5,
     "metadata": {},
     "output_type": "execute_result"
    }
   ],
   "source": [
    "dad.shape"
   ]
  },
  {
   "cell_type": "code",
   "execution_count": 6,
   "metadata": {},
   "outputs": [],
   "source": [
    "elec = pd.read_csv('../csv_scrapes/Electricity_subreddit.csv')"
   ]
  },
  {
   "cell_type": "code",
   "execution_count": 7,
   "metadata": {},
   "outputs": [
    {
     "data": {
      "text/plain": [
       "(713, 8)"
      ]
     },
     "execution_count": 7,
     "metadata": {},
     "output_type": "execute_result"
    }
   ],
   "source": [
    "elec.shape"
   ]
  },
  {
   "cell_type": "code",
   "execution_count": 8,
   "metadata": {},
   "outputs": [],
   "source": [
    "hist = pd.read_csv('../csv_scrapes/history_subreddit.csv')"
   ]
  },
  {
   "cell_type": "code",
   "execution_count": 9,
   "metadata": {},
   "outputs": [
    {
     "data": {
      "text/plain": [
       "(912, 8)"
      ]
     },
     "execution_count": 9,
     "metadata": {},
     "output_type": "execute_result"
    }
   ],
   "source": [
    "hist.shape"
   ]
  },
  {
   "cell_type": "code",
   "execution_count": 10,
   "metadata": {},
   "outputs": [],
   "source": [
    "phil = pd.read_csv('../csv_scrapes/philosophy_subreddit.csv')"
   ]
  },
  {
   "cell_type": "code",
   "execution_count": 11,
   "metadata": {},
   "outputs": [
    {
     "data": {
      "text/plain": [
       "(40, 8)"
      ]
     },
     "execution_count": 11,
     "metadata": {},
     "output_type": "execute_result"
    }
   ],
   "source": [
    "phil.shape"
   ]
  },
  {
   "cell_type": "code",
   "execution_count": 12,
   "metadata": {},
   "outputs": [],
   "source": [
    "rant = pd.read_csv('../csv_scrapes/rant_subreddit.csv')"
   ]
  },
  {
   "cell_type": "code",
   "execution_count": 13,
   "metadata": {},
   "outputs": [
    {
     "data": {
      "text/plain": [
       "(656, 8)"
      ]
     },
     "execution_count": 13,
     "metadata": {},
     "output_type": "execute_result"
    }
   ],
   "source": [
    "rant.shape"
   ]
  },
  {
   "cell_type": "code",
   "execution_count": 14,
   "metadata": {},
   "outputs": [],
   "source": [
    "st = pd.read_csv('../csv_scrapes/Showerthoughts_subreddit.csv')"
   ]
  },
  {
   "cell_type": "code",
   "execution_count": 15,
   "metadata": {},
   "outputs": [
    {
     "data": {
      "text/plain": [
       "(32, 8)"
      ]
     },
     "execution_count": 15,
     "metadata": {},
     "output_type": "execute_result"
    }
   ],
   "source": [
    "st.shape"
   ]
  },
  {
   "cell_type": "code",
   "execution_count": 16,
   "metadata": {},
   "outputs": [],
   "source": [
    "wanted_df = [dad, elec, hist, phil, rant, st]\n",
    "total = rock.append(wanted_df)"
   ]
  },
  {
   "cell_type": "code",
   "execution_count": 17,
   "metadata": {},
   "outputs": [
    {
     "data": {
      "text/plain": [
       "(3201, 8)"
      ]
     },
     "execution_count": 17,
     "metadata": {},
     "output_type": "execute_result"
    }
   ],
   "source": [
    "total.shape"
   ]
  },
  {
   "cell_type": "code",
   "execution_count": 18,
   "metadata": {},
   "outputs": [
    {
     "data": {
      "text/html": [
       "<div>\n",
       "<style scoped>\n",
       "    .dataframe tbody tr th:only-of-type {\n",
       "        vertical-align: middle;\n",
       "    }\n",
       "\n",
       "    .dataframe tbody tr th {\n",
       "        vertical-align: top;\n",
       "    }\n",
       "\n",
       "    .dataframe thead th {\n",
       "        text-align: right;\n",
       "    }\n",
       "</style>\n",
       "<table border=\"1\" class=\"dataframe\">\n",
       "  <thead>\n",
       "    <tr style=\"text-align: right;\">\n",
       "      <th></th>\n",
       "      <th>subreddit_topic</th>\n",
       "      <th>subreddit_time_created</th>\n",
       "      <th>subreddit_title</th>\n",
       "      <th>subreddit_id</th>\n",
       "      <th>subreddit_score</th>\n",
       "      <th>subreddit_num_comments</th>\n",
       "      <th>subreddit_body</th>\n",
       "      <th>subreddit_url</th>\n",
       "    </tr>\n",
       "  </thead>\n",
       "  <tbody>\n",
       "    <tr>\n",
       "      <th>0</th>\n",
       "      <td>80sRock</td>\n",
       "      <td>2020-07-30 17:55:12</td>\n",
       "      <td>Ozzy Osbourne   Crazy Train   Acoustic Instrum...</td>\n",
       "      <td>i0nfuw</td>\n",
       "      <td>2</td>\n",
       "      <td>0</td>\n",
       "      <td>Hey All   Just wanted to share my acoustic ins...</td>\n",
       "      <td>https://www.reddit.com/r/80sRock/comments/i0nf...</td>\n",
       "    </tr>\n",
       "    <tr>\n",
       "      <th>1</th>\n",
       "      <td>80sRock</td>\n",
       "      <td>2020-07-29 23:20:20</td>\n",
       "      <td>SONG ID  Please help</td>\n",
       "      <td>i07wij</td>\n",
       "      <td>1</td>\n",
       "      <td>2</td>\n",
       "      <td>My workplace has one of those pumped in music ...</td>\n",
       "      <td>https://www.reddit.com/r/80sRock/comments/i07w...</td>\n",
       "    </tr>\n",
       "    <tr>\n",
       "      <th>2</th>\n",
       "      <td>80sRock</td>\n",
       "      <td>2020-07-15 05:23:34</td>\n",
       "      <td>Rock you like a hurricane</td>\n",
       "      <td>hrf8sg</td>\n",
       "      <td>4</td>\n",
       "      <td>0</td>\n",
       "      <td>People of the world    I just thought I d shar...</td>\n",
       "      <td>https://www.reddit.com/r/80sRock/comments/hrf8...</td>\n",
       "    </tr>\n",
       "    <tr>\n",
       "      <th>3</th>\n",
       "      <td>80sRock</td>\n",
       "      <td>2020-07-08 03:15:09</td>\n",
       "      <td>Does anyone have any good sex pistols songs</td>\n",
       "      <td>hn6i70</td>\n",
       "      <td>1</td>\n",
       "      <td>0</td>\n",
       "      <td>I want to listen to a song by them but don t k...</td>\n",
       "      <td>https://www.reddit.com/r/80sRock/comments/hn6i...</td>\n",
       "    </tr>\n",
       "    <tr>\n",
       "      <th>4</th>\n",
       "      <td>80sRock</td>\n",
       "      <td>2019-11-08 23:09:33</td>\n",
       "      <td>trying to find a tour t shirt from now and zen...</td>\n",
       "      <td>dtlvjl</td>\n",
       "      <td>1</td>\n",
       "      <td>0</td>\n",
       "      <td>Title says it but my dad went to the Now and Z...</td>\n",
       "      <td>https://www.reddit.com/r/80sRock/comments/dtlv...</td>\n",
       "    </tr>\n",
       "  </tbody>\n",
       "</table>\n",
       "</div>"
      ],
      "text/plain": [
       "  subreddit_topic subreddit_time_created  \\\n",
       "0         80sRock    2020-07-30 17:55:12   \n",
       "1         80sRock    2020-07-29 23:20:20   \n",
       "2         80sRock    2020-07-15 05:23:34   \n",
       "3         80sRock    2020-07-08 03:15:09   \n",
       "4         80sRock    2019-11-08 23:09:33   \n",
       "\n",
       "                                     subreddit_title subreddit_id  \\\n",
       "0  Ozzy Osbourne   Crazy Train   Acoustic Instrum...       i0nfuw   \n",
       "1                              SONG ID  Please help        i07wij   \n",
       "2                          Rock you like a hurricane       hrf8sg   \n",
       "3        Does anyone have any good sex pistols songs       hn6i70   \n",
       "4  trying to find a tour t shirt from now and zen...       dtlvjl   \n",
       "\n",
       "   subreddit_score  subreddit_num_comments  \\\n",
       "0                2                       0   \n",
       "1                1                       2   \n",
       "2                4                       0   \n",
       "3                1                       0   \n",
       "4                1                       0   \n",
       "\n",
       "                                      subreddit_body  \\\n",
       "0  Hey All   Just wanted to share my acoustic ins...   \n",
       "1  My workplace has one of those pumped in music ...   \n",
       "2  People of the world    I just thought I d shar...   \n",
       "3  I want to listen to a song by them but don t k...   \n",
       "4  Title says it but my dad went to the Now and Z...   \n",
       "\n",
       "                                       subreddit_url  \n",
       "0  https://www.reddit.com/r/80sRock/comments/i0nf...  \n",
       "1  https://www.reddit.com/r/80sRock/comments/i07w...  \n",
       "2  https://www.reddit.com/r/80sRock/comments/hrf8...  \n",
       "3  https://www.reddit.com/r/80sRock/comments/hn6i...  \n",
       "4  https://www.reddit.com/r/80sRock/comments/dtlv...  "
      ]
     },
     "execution_count": 18,
     "metadata": {},
     "output_type": "execute_result"
    }
   ],
   "source": [
    "total.head()"
   ]
  },
  {
   "cell_type": "code",
   "execution_count": 22,
   "metadata": {},
   "outputs": [],
   "source": [
    "total.to_csv('../csv_scrapes/concatenated_subreddit.csv', index = False)"
   ]
  },
  {
   "cell_type": "code",
   "execution_count": null,
   "metadata": {},
   "outputs": [],
   "source": []
  },
  {
   "cell_type": "code",
   "execution_count": null,
   "metadata": {},
   "outputs": [],
   "source": []
  },
  {
   "cell_type": "code",
   "execution_count": null,
   "metadata": {},
   "outputs": [],
   "source": []
  }
 ],
 "metadata": {
  "kernelspec": {
   "display_name": "Python 3",
   "language": "python",
   "name": "python3"
  },
  "language_info": {
   "codemirror_mode": {
    "name": "ipython",
    "version": 3
   },
   "file_extension": ".py",
   "mimetype": "text/x-python",
   "name": "python",
   "nbconvert_exporter": "python",
   "pygments_lexer": "ipython3",
   "version": "3.7.7"
  }
 },
 "nbformat": 4,
 "nbformat_minor": 4
}
