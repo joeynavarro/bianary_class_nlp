{
 "cells": [
  {
   "cell_type": "code",
   "execution_count": 1,
   "metadata": {},
   "outputs": [],
   "source": [
    "import requests\n",
    "import time\n",
    "import nltk\n",
    "import pandas as pd\n",
    "import regex as re\n",
    "import numpy as np\n",
    "\n",
    "from nltk.corpus import stopwords\n",
    "from nltk.tokenize import RegexpTokenizer\n",
    "from nltk.stem import WordNetLemmatizer\n",
    "from sklearn.feature_extraction.text import CountVectorizer, TfidfVectorizer"
   ]
  },
  {
   "cell_type": "code",
   "execution_count": null,
   "metadata": {},
   "outputs": [],
   "source": []
  },
  {
   "cell_type": "code",
   "execution_count": 2,
   "metadata": {},
   "outputs": [],
   "source": [
    "df = pd.read_csv('../csv_scrapes/concatenated_subreddit.csv')"
   ]
  },
  {
   "cell_type": "code",
   "execution_count": 3,
   "metadata": {},
   "outputs": [
    {
     "data": {
      "text/plain": [
       "(3201, 8)"
      ]
     },
     "execution_count": 3,
     "metadata": {},
     "output_type": "execute_result"
    }
   ],
   "source": [
    "df.shape"
   ]
  },
  {
   "cell_type": "code",
   "execution_count": 4,
   "metadata": {},
   "outputs": [
    {
     "data": {
      "text/html": [
       "<div>\n",
       "<style scoped>\n",
       "    .dataframe tbody tr th:only-of-type {\n",
       "        vertical-align: middle;\n",
       "    }\n",
       "\n",
       "    .dataframe tbody tr th {\n",
       "        vertical-align: top;\n",
       "    }\n",
       "\n",
       "    .dataframe thead th {\n",
       "        text-align: right;\n",
       "    }\n",
       "</style>\n",
       "<table border=\"1\" class=\"dataframe\">\n",
       "  <thead>\n",
       "    <tr style=\"text-align: right;\">\n",
       "      <th></th>\n",
       "      <th>subreddit_topic</th>\n",
       "      <th>subreddit_time_created</th>\n",
       "      <th>subreddit_title</th>\n",
       "      <th>subreddit_id</th>\n",
       "      <th>subreddit_score</th>\n",
       "      <th>subreddit_num_comments</th>\n",
       "      <th>subreddit_body</th>\n",
       "      <th>subreddit_url</th>\n",
       "    </tr>\n",
       "  </thead>\n",
       "  <tbody>\n",
       "    <tr>\n",
       "      <th>0</th>\n",
       "      <td>80sRock</td>\n",
       "      <td>2020-07-30 17:55:12</td>\n",
       "      <td>Ozzy Osbourne   Crazy Train   Acoustic Instrum...</td>\n",
       "      <td>i0nfuw</td>\n",
       "      <td>2</td>\n",
       "      <td>0</td>\n",
       "      <td>Hey All   Just wanted to share my acoustic ins...</td>\n",
       "      <td>https://www.reddit.com/r/80sRock/comments/i0nf...</td>\n",
       "    </tr>\n",
       "    <tr>\n",
       "      <th>1</th>\n",
       "      <td>80sRock</td>\n",
       "      <td>2020-07-29 23:20:20</td>\n",
       "      <td>SONG ID  Please help</td>\n",
       "      <td>i07wij</td>\n",
       "      <td>1</td>\n",
       "      <td>2</td>\n",
       "      <td>My workplace has one of those pumped in music ...</td>\n",
       "      <td>https://www.reddit.com/r/80sRock/comments/i07w...</td>\n",
       "    </tr>\n",
       "    <tr>\n",
       "      <th>2</th>\n",
       "      <td>80sRock</td>\n",
       "      <td>2020-07-15 05:23:34</td>\n",
       "      <td>Rock you like a hurricane</td>\n",
       "      <td>hrf8sg</td>\n",
       "      <td>4</td>\n",
       "      <td>0</td>\n",
       "      <td>People of the world    I just thought I d shar...</td>\n",
       "      <td>https://www.reddit.com/r/80sRock/comments/hrf8...</td>\n",
       "    </tr>\n",
       "    <tr>\n",
       "      <th>3</th>\n",
       "      <td>80sRock</td>\n",
       "      <td>2020-07-08 03:15:09</td>\n",
       "      <td>Does anyone have any good sex pistols songs</td>\n",
       "      <td>hn6i70</td>\n",
       "      <td>1</td>\n",
       "      <td>0</td>\n",
       "      <td>I want to listen to a song by them but don t k...</td>\n",
       "      <td>https://www.reddit.com/r/80sRock/comments/hn6i...</td>\n",
       "    </tr>\n",
       "    <tr>\n",
       "      <th>4</th>\n",
       "      <td>80sRock</td>\n",
       "      <td>2019-11-08 23:09:33</td>\n",
       "      <td>trying to find a tour t shirt from now and zen...</td>\n",
       "      <td>dtlvjl</td>\n",
       "      <td>1</td>\n",
       "      <td>0</td>\n",
       "      <td>Title says it but my dad went to the Now and Z...</td>\n",
       "      <td>https://www.reddit.com/r/80sRock/comments/dtlv...</td>\n",
       "    </tr>\n",
       "  </tbody>\n",
       "</table>\n",
       "</div>"
      ],
      "text/plain": [
       "  subreddit_topic subreddit_time_created  \\\n",
       "0         80sRock    2020-07-30 17:55:12   \n",
       "1         80sRock    2020-07-29 23:20:20   \n",
       "2         80sRock    2020-07-15 05:23:34   \n",
       "3         80sRock    2020-07-08 03:15:09   \n",
       "4         80sRock    2019-11-08 23:09:33   \n",
       "\n",
       "                                     subreddit_title subreddit_id  \\\n",
       "0  Ozzy Osbourne   Crazy Train   Acoustic Instrum...       i0nfuw   \n",
       "1                              SONG ID  Please help        i07wij   \n",
       "2                          Rock you like a hurricane       hrf8sg   \n",
       "3        Does anyone have any good sex pistols songs       hn6i70   \n",
       "4  trying to find a tour t shirt from now and zen...       dtlvjl   \n",
       "\n",
       "   subreddit_score  subreddit_num_comments  \\\n",
       "0                2                       0   \n",
       "1                1                       2   \n",
       "2                4                       0   \n",
       "3                1                       0   \n",
       "4                1                       0   \n",
       "\n",
       "                                      subreddit_body  \\\n",
       "0  Hey All   Just wanted to share my acoustic ins...   \n",
       "1  My workplace has one of those pumped in music ...   \n",
       "2  People of the world    I just thought I d shar...   \n",
       "3  I want to listen to a song by them but don t k...   \n",
       "4  Title says it but my dad went to the Now and Z...   \n",
       "\n",
       "                                       subreddit_url  \n",
       "0  https://www.reddit.com/r/80sRock/comments/i0nf...  \n",
       "1  https://www.reddit.com/r/80sRock/comments/i07w...  \n",
       "2  https://www.reddit.com/r/80sRock/comments/hrf8...  \n",
       "3  https://www.reddit.com/r/80sRock/comments/hn6i...  \n",
       "4  https://www.reddit.com/r/80sRock/comments/dtlv...  "
      ]
     },
     "execution_count": 4,
     "metadata": {},
     "output_type": "execute_result"
    }
   ],
   "source": [
    "df.head()"
   ]
  },
  {
   "cell_type": "code",
   "execution_count": 5,
   "metadata": {},
   "outputs": [],
   "source": [
    "needed_col = ['subreddit_topic', 'subreddit_body']\n",
    "df = df[needed_col]"
   ]
  },
  {
   "cell_type": "code",
   "execution_count": 6,
   "metadata": {},
   "outputs": [
    {
     "data": {
      "text/plain": [
       "(3201, 2)"
      ]
     },
     "execution_count": 6,
     "metadata": {},
     "output_type": "execute_result"
    }
   ],
   "source": [
    "df.shape"
   ]
  },
  {
   "cell_type": "code",
   "execution_count": 7,
   "metadata": {},
   "outputs": [],
   "source": [
    "df['target'] = np.where(df['subreddit_topic'].str.contains('dadjokes', regex = False), 1, 0)"
   ]
  },
  {
   "cell_type": "code",
   "execution_count": 8,
   "metadata": {},
   "outputs": [
    {
     "data": {
      "text/plain": [
       "0    2360\n",
       "1     841\n",
       "Name: target, dtype: int64"
      ]
     },
     "execution_count": 8,
     "metadata": {},
     "output_type": "execute_result"
    }
   ],
   "source": [
    "df['target'].value_counts()"
   ]
  },
  {
   "cell_type": "code",
   "execution_count": 9,
   "metadata": {},
   "outputs": [
    {
     "data": {
      "text/plain": [
       "(3201, 3)"
      ]
     },
     "execution_count": 9,
     "metadata": {},
     "output_type": "execute_result"
    }
   ],
   "source": [
    "df.shape"
   ]
  },
  {
   "cell_type": "code",
   "execution_count": 10,
   "metadata": {},
   "outputs": [
    {
     "data": {
      "text/html": [
       "<div>\n",
       "<style scoped>\n",
       "    .dataframe tbody tr th:only-of-type {\n",
       "        vertical-align: middle;\n",
       "    }\n",
       "\n",
       "    .dataframe tbody tr th {\n",
       "        vertical-align: top;\n",
       "    }\n",
       "\n",
       "    .dataframe thead th {\n",
       "        text-align: right;\n",
       "    }\n",
       "</style>\n",
       "<table border=\"1\" class=\"dataframe\">\n",
       "  <thead>\n",
       "    <tr style=\"text-align: right;\">\n",
       "      <th></th>\n",
       "      <th>subreddit_topic</th>\n",
       "      <th>subreddit_body</th>\n",
       "      <th>target</th>\n",
       "    </tr>\n",
       "  </thead>\n",
       "  <tbody>\n",
       "    <tr>\n",
       "      <th>0</th>\n",
       "      <td>80sRock</td>\n",
       "      <td>Hey All   Just wanted to share my acoustic ins...</td>\n",
       "      <td>0</td>\n",
       "    </tr>\n",
       "    <tr>\n",
       "      <th>1</th>\n",
       "      <td>80sRock</td>\n",
       "      <td>My workplace has one of those pumped in music ...</td>\n",
       "      <td>0</td>\n",
       "    </tr>\n",
       "    <tr>\n",
       "      <th>2</th>\n",
       "      <td>80sRock</td>\n",
       "      <td>People of the world    I just thought I d shar...</td>\n",
       "      <td>0</td>\n",
       "    </tr>\n",
       "    <tr>\n",
       "      <th>3</th>\n",
       "      <td>80sRock</td>\n",
       "      <td>I want to listen to a song by them but don t k...</td>\n",
       "      <td>0</td>\n",
       "    </tr>\n",
       "    <tr>\n",
       "      <th>4</th>\n",
       "      <td>80sRock</td>\n",
       "      <td>Title says it but my dad went to the Now and Z...</td>\n",
       "      <td>0</td>\n",
       "    </tr>\n",
       "  </tbody>\n",
       "</table>\n",
       "</div>"
      ],
      "text/plain": [
       "  subreddit_topic                                     subreddit_body  target\n",
       "0         80sRock  Hey All   Just wanted to share my acoustic ins...       0\n",
       "1         80sRock  My workplace has one of those pumped in music ...       0\n",
       "2         80sRock  People of the world    I just thought I d shar...       0\n",
       "3         80sRock  I want to listen to a song by them but don t k...       0\n",
       "4         80sRock  Title says it but my dad went to the Now and Z...       0"
      ]
     },
     "execution_count": 10,
     "metadata": {},
     "output_type": "execute_result"
    }
   ],
   "source": [
    "df.head()"
   ]
  },
  {
   "cell_type": "code",
   "execution_count": 11,
   "metadata": {},
   "outputs": [],
   "source": [
    "#set my tokenizer\n",
    "tokenizer = RegexpTokenizer(r'\\w+|\\$[\\d\\.]+|\\S+')\n",
    "\n",
    "#Lemmatize\n",
    "lemmatizer = WordNetLemmatizer()"
   ]
  },
  {
   "cell_type": "code",
   "execution_count": 12,
   "metadata": {},
   "outputs": [
    {
     "data": {
      "text/plain": [
       "Index(['subreddit_topic', 'subreddit_body', 'target'], dtype='object')"
      ]
     },
     "execution_count": 12,
     "metadata": {},
     "output_type": "execute_result"
    }
   ],
   "source": [
    "df.columns"
   ]
  },
  {
   "cell_type": "code",
   "execution_count": null,
   "metadata": {},
   "outputs": [],
   "source": []
  },
  {
   "cell_type": "code",
   "execution_count": 13,
   "metadata": {},
   "outputs": [],
   "source": [
    "def column_cleaner(column, df = df):\n",
    "    #For some reason, I was running into errors trying to run this code until I added the code\n",
    "    #below (df[column+'_clean'] = \"\"), establishing from the beginning that the new column to be created\n",
    "    #exists in the dataframe and contains nothing but empty strings.\n",
    "    \n",
    "    df[column + '_clean'] = \"\"\n",
    "    \n",
    "    #for loop through each row in the column:\n",
    "    for i in range(len(df[column])):\n",
    "        \n",
    "        #Tokenize, or separate, each word in column's string into its own string (prep for lemmatization):\n",
    "        col_tok = []\n",
    "        col_tok.extend(tokenizer.tokenize(df[column][i].lower()))\n",
    "        col_token = []\n",
    "        [col_token.append(s) for s in col_tok if s not in col_token]\n",
    "        \n",
    "        #Lemmatize the words (cut the word to its base/root, for improved model results):\n",
    "        col_lem = []\n",
    "        for x in range(len(col_token)):\n",
    "            col_lem.append(lemmatizer.lemmatize(col_token[x]))\n",
    "        \n",
    "        #Remove characters and numbers (for improved model results, hopefully):\n",
    "        letters_only_col = []\n",
    "        for c in range(len(col_lem)):\n",
    "            letters_only_col.append(re.sub(\"[^a-zA-Z]\", \"\", col_lem[c]))\n",
    "        \n",
    "        #Remove stopwords (for improved model results):\n",
    "        col_words = [w for w in letters_only_col if not w in stopwords.words('english')]\n",
    "        \n",
    "        \n",
    "        #Ensure that there are no 'None' objects in title_words:\n",
    "        col_words = list(filter(None, col_words))\n",
    "\n",
    "        #Join the lemmatized words - stopwords back to one long string (prep for\n",
    "        #vectorization, done outside/after this function):\n",
    "        col_words = \" \".join(col_words)\n",
    "\n",
    "        #Fill new column with 'cleaned' string from column:\n",
    "        df[column+'_clean'][i] = col_words"
   ]
  },
  {
   "cell_type": "code",
   "execution_count": 14,
   "metadata": {},
   "outputs": [
    {
     "name": "stderr",
     "output_type": "stream",
     "text": [
      "/Users/joseluisnavarrojr/opt/anaconda3/lib/python3.7/site-packages/ipykernel_launcher.py:39: SettingWithCopyWarning: \n",
      "A value is trying to be set on a copy of a slice from a DataFrame\n",
      "\n",
      "See the caveats in the documentation: https://pandas.pydata.org/pandas-docs/stable/user_guide/indexing.html#returning-a-view-versus-a-copy\n"
     ]
    }
   ],
   "source": [
    "column_cleaner(column='subreddit_body', df=df)"
   ]
  },
  {
   "cell_type": "code",
   "execution_count": null,
   "metadata": {},
   "outputs": [],
   "source": []
  },
  {
   "cell_type": "code",
   "execution_count": 15,
   "metadata": {},
   "outputs": [
    {
     "data": {
      "text/html": [
       "<div>\n",
       "<style scoped>\n",
       "    .dataframe tbody tr th:only-of-type {\n",
       "        vertical-align: middle;\n",
       "    }\n",
       "\n",
       "    .dataframe tbody tr th {\n",
       "        vertical-align: top;\n",
       "    }\n",
       "\n",
       "    .dataframe thead th {\n",
       "        text-align: right;\n",
       "    }\n",
       "</style>\n",
       "<table border=\"1\" class=\"dataframe\">\n",
       "  <thead>\n",
       "    <tr style=\"text-align: right;\">\n",
       "      <th></th>\n",
       "      <th>subreddit_topic</th>\n",
       "      <th>subreddit_body</th>\n",
       "      <th>target</th>\n",
       "      <th>subreddit_body_clean</th>\n",
       "    </tr>\n",
       "  </thead>\n",
       "  <tbody>\n",
       "    <tr>\n",
       "      <th>0</th>\n",
       "      <td>80sRock</td>\n",
       "      <td>Hey All   Just wanted to share my acoustic ins...</td>\n",
       "      <td>0</td>\n",
       "      <td>hey wanted share acoustic instrumental version...</td>\n",
       "    </tr>\n",
       "    <tr>\n",
       "      <th>1</th>\n",
       "      <td>80sRock</td>\n",
       "      <td>My workplace has one of those pumped in music ...</td>\n",
       "      <td>0</td>\n",
       "      <td>workplace ha one pumped music playlist pm bloc...</td>\n",
       "    </tr>\n",
       "    <tr>\n",
       "      <th>2</th>\n",
       "      <td>80sRock</td>\n",
       "      <td>People of the world    I just thought I d shar...</td>\n",
       "      <td>0</td>\n",
       "      <td>people world thought share attempt song includ...</td>\n",
       "    </tr>\n",
       "    <tr>\n",
       "      <th>3</th>\n",
       "      <td>80sRock</td>\n",
       "      <td>I want to listen to a song by them but don t k...</td>\n",
       "      <td>0</td>\n",
       "      <td>want listen song know start</td>\n",
       "    </tr>\n",
       "    <tr>\n",
       "      <th>4</th>\n",
       "      <td>80sRock</td>\n",
       "      <td>Title says it but my dad went to the Now and Z...</td>\n",
       "      <td>0</td>\n",
       "      <td>title say dad went zen tour wa younger got shi...</td>\n",
       "    </tr>\n",
       "  </tbody>\n",
       "</table>\n",
       "</div>"
      ],
      "text/plain": [
       "  subreddit_topic                                     subreddit_body  target  \\\n",
       "0         80sRock  Hey All   Just wanted to share my acoustic ins...       0   \n",
       "1         80sRock  My workplace has one of those pumped in music ...       0   \n",
       "2         80sRock  People of the world    I just thought I d shar...       0   \n",
       "3         80sRock  I want to listen to a song by them but don t k...       0   \n",
       "4         80sRock  Title says it but my dad went to the Now and Z...       0   \n",
       "\n",
       "                                subreddit_body_clean  \n",
       "0  hey wanted share acoustic instrumental version...  \n",
       "1  workplace ha one pumped music playlist pm bloc...  \n",
       "2  people world thought share attempt song includ...  \n",
       "3                        want listen song know start  \n",
       "4  title say dad went zen tour wa younger got shi...  "
      ]
     },
     "execution_count": 15,
     "metadata": {},
     "output_type": "execute_result"
    }
   ],
   "source": [
    "df.head()"
   ]
  },
  {
   "cell_type": "code",
   "execution_count": null,
   "metadata": {},
   "outputs": [],
   "source": []
  },
  {
   "cell_type": "code",
   "execution_count": 16,
   "metadata": {},
   "outputs": [],
   "source": [
    "#vectorizer function definitions"
   ]
  },
  {
   "cell_type": "code",
   "execution_count": 17,
   "metadata": {},
   "outputs": [],
   "source": [
    "#create CountVectorize Function\n",
    "\n",
    "def count_vec_column(column, func_df=df):\n",
    "    #Instantiate CountVectorizer:\n",
    "    vect = CountVectorizer()\n",
    "    \n",
    "    #Create temporary variable X_text that takes on the fit/transformed results of the column:\n",
    "    X_text = vect.fit_transform(func_df[column])\n",
    "    \n",
    "    #Turn X_text into an array (prep to easily make a DataFrame):\n",
    "    X_text = X_text.toarray()\n",
    "    \n",
    "    #Create a temporary DataFrame with each word/word-pair/word-group as the columns:\n",
    "    temp_df = pd.DataFrame(X_text,\n",
    "                           columns = vect.get_feature_names())\n",
    "    \n",
    "    #Add the original column name to the beginning of the new columns' names to differentiate from which column\n",
    "    # the vectorized words came from (this may impact the strength of the model):\n",
    "    for i in range(len(temp_df.columns)):\n",
    "        #print(i)\n",
    "        temp_df.rename(columns={temp_df.columns[i]: column + '_' + temp_df.columns[i]}, inplace=True)\n",
    "    \n",
    "    #Combine the two DataFrames:\n",
    "    func_df = pd.concat([func_df, temp_df], axis=1)\n",
    "    return func_df"
   ]
  },
  {
   "cell_type": "code",
   "execution_count": 18,
   "metadata": {},
   "outputs": [],
   "source": [
    "#CountVectorize\n",
    "#commented out after beta checkpoint created because cpu intensive\n",
    "df_cv = count_vec_column(func_df=df, column='subreddit_body_clean')"
   ]
  },
  {
   "cell_type": "code",
   "execution_count": 19,
   "metadata": {},
   "outputs": [],
   "source": [
    "df_cv.to_csv('../csv_vectorized/subreddit_count_vec.csv', index=False, sep=\",\")"
   ]
  }
 ],
 "metadata": {
  "kernelspec": {
   "display_name": "Python 3",
   "language": "python",
   "name": "python3"
  },
  "language_info": {
   "codemirror_mode": {
    "name": "ipython",
    "version": 3
   },
   "file_extension": ".py",
   "mimetype": "text/x-python",
   "name": "python",
   "nbconvert_exporter": "python",
   "pygments_lexer": "ipython3",
   "version": "3.7.7"
  }
 },
 "nbformat": 4,
 "nbformat_minor": 4
}
